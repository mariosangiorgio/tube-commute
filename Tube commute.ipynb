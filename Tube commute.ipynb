{
 "cells": [
  {
   "cell_type": "markdown",
   "metadata": {},
   "source": [
    "# Tube commute\n",
    "Data analysis of the London Underground journey history based on the Oyster card data from the [Transport For London website](https://oyster.tfl.gov.uk/oyster/journeyHistory.do).\n",
    "You can subscribe and get files containing all the trip details periodically emailed to you.\n",
    "\n",
    "The goal of this project is to provide an easy way to explore TFL data. Once you loaded the script in R you can play with it interactively. An example session could look like:"
   ]
  },
  {
   "cell_type": "code",
   "execution_count": null,
   "metadata": {},
   "outputs": [],
   "source": [
    "source(\"./commute.r\")"
   ]
  },
  {
   "cell_type": "code",
   "execution_count": null,
   "metadata": {},
   "outputs": [],
   "source": [
    "options(repr.plot.width=7, repr.plot.height=4)"
   ]
  },
  {
   "cell_type": "markdown",
   "metadata": {},
   "source": [
    "# Preparation of the data"
   ]
  },
  {
   "cell_type": "code",
   "execution_count": null,
   "metadata": {},
   "outputs": [],
   "source": [
    "tfl_data <- load_folder('~/Documents/Data/TFL/')\n",
    "home <- \"Tottenham Hale [London Underground]\"\n",
    "work <- \"Warren Street\"\n",
    "commute.to <- extract_commute_leg(tfl_data, home, work, 7, 60*3)\n",
    "commute.from <- extract_commute_leg(tfl_data, work, home, 16, 60*3)\n",
    "commute.labeled <- merge_labeled(commute.to, commute.from)"
   ]
  },
  {
   "cell_type": "code",
   "execution_count": null,
   "metadata": {},
   "outputs": [],
   "source": [
    "commute.to <- commute.to[order(commute.to$Date),]\n",
    "commute.from <- commute.from[order(commute.from$Date),]\n",
    "commute.labeled <- commute.labeled[order(commute.labeled$Date),]"
   ]
  },
  {
   "cell_type": "code",
   "execution_count": null,
   "metadata": {},
   "outputs": [],
   "source": [
    "head(commute.labeled)\n",
    "summary(commute.labeled)"
   ]
  },
  {
   "cell_type": "markdown",
   "metadata": {},
   "source": [
    "# Visualizations"
   ]
  },
  {
   "cell_type": "code",
   "execution_count": null,
   "metadata": {},
   "outputs": [],
   "source": [
    "start_time_from_vs_to <- function(commute.labeled){\n",
    "    chart <- ggplot(commute.labeled, aes(x=Date, y=(Start.Time/60), colour= Direction)) +\n",
    "        geom_point() +\n",
    "        geom_smooth(method='lm',formula=y~x, se=FALSE)    \n",
    "        scale_y_discrete(name=\"Ride start time (hour of the day)\", limits=7:19)\n",
    "    return(chart)\n",
    "}\n",
    "start_time_from_vs_to(commute.labeled)"
   ]
  },
  {
   "cell_type": "code",
   "execution_count": null,
   "metadata": {},
   "outputs": [],
   "source": [
    "visualise_time_vs_duration <- function(commute.labeled){\n",
    "  format_hours <- function(minutes){\n",
    "    return(sprintf(\"%d:%02d\", as.integer(minutes%/%60), as.integer(minutes%%60)))\n",
    "  }\n",
    "  # Displaying points loses data. The more samples there are the more likely it is\n",
    "  # that there will be a clash between different rides that touched in and out at the\n",
    "  # same time.\n",
    "  # The heatmap solves this issue but to get a decent visualisation requires\n",
    "  # it's better to take bins of 5 minutes for the touch in time. This prevents too\n",
    "  # many missing values to show up.\n",
    "  # Keeping the full granularity for ride duration works fine.\n",
    "  plot <- ggplot(commute.labeled, aes(Start.Time, Duration)) +\n",
    "    geom_bin2d(drop=TRUE, binwidth=c(5,1), show.legend = FALSE) +\n",
    "    facet_grid(. ~Direction, scales = \"free\") +\n",
    "    scale_x_continuous(\"Touch in time\", breaks = seq(420,1200,30), labels = format_hours) +\n",
    "    scale_y_continuous(\"Ride duration\", labels = scales::unit_format(unit = \"min\")) +\n",
    "    scale_fill_continuous(\"Count\", low = \"white\", high = \"black\", limits=c(0,NA)) +    \n",
    "    theme_bw() +\n",
    "    # for facet grid\n",
    "    theme(strip.background = element_rect(colour=\"white\", fill=\"white\"), legend.position = 'bottom')\n",
    "  return(plot)\n",
    "}\n",
    "visualise_time_vs_duration(commute.labeled)"
   ]
  },
  {
   "cell_type": "code",
   "execution_count": null,
   "metadata": {},
   "outputs": [],
   "source": []
  }
 ],
 "metadata": {
  "language_info": {
   "name": "python",
   "pygments_lexer": "ipython3"
  }
 },
 "nbformat": 4,
 "nbformat_minor": 2
}
