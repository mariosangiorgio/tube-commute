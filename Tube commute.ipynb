{
 "cells": [
  {
   "cell_type": "markdown",
   "metadata": {},
   "source": [
    "# Tube commute\n",
    "Data analysis of the London Underground journey history based on the Oyster card data from the [Transport For London website](https://oyster.tfl.gov.uk/oyster/journeyHistory.do).\n",
    "You can subscribe and get files containing all the trip details periodically emailed to you.\n",
    "\n",
    "The goal of this project is to provide an easy way to explore TFL data. Once you loaded the script in R you can play with it interactively. An example session could look like:"
   ]
  },
  {
   "cell_type": "code",
   "execution_count": null,
   "metadata": {},
   "outputs": [],
   "source": [
    "source(\"./commute.r\")"
   ]
  },
  {
   "cell_type": "markdown",
   "metadata": {},
   "source": [
    "# Preparation of the data"
   ]
  },
  {
   "cell_type": "code",
   "execution_count": null,
   "metadata": {},
   "outputs": [],
   "source": [
    "tfl_data <- load_folder('~/Documents/Data/TFL/')\n",
    "home <- \"Tottenham Hale [London Underground]\"\n",
    "work <- \"Warren Street\"\n",
    "commute.to <- extract_commute_leg(tfl_data, home, work, 7, 60*3)\n",
    "commute.from <- extract_commute_leg(tfl_data, work, home, 16, 60*3)\n",
    "commute.labeled <- merge_labeled(commute.to, commute.from)"
   ]
  },
  {
   "cell_type": "markdown",
   "metadata": {},
   "source": [
    "# Visualizations"
   ]
  },
  {
   "cell_type": "code",
   "execution_count": null,
   "metadata": {},
   "outputs": [],
   "source": [
    "start_time_from_vs_to(commute.labeled)"
   ]
  },
  {
   "cell_type": "code",
   "execution_count": null,
   "metadata": {},
   "outputs": [],
   "source": [
    "visualisation_from_vs_to(commute.labeled)"
   ]
  },
  {
   "cell_type": "code",
   "execution_count": null,
   "metadata": {},
   "outputs": [],
   "source": [
    "visualisation_from_vs_to_by_day(commute.labeled)"
   ]
  },
  {
   "cell_type": "code",
   "execution_count": null,
   "metadata": {},
   "outputs": [],
   "source": [
    "visualise_time_vs_duration(commute.labeled)"
   ]
  }
 ],
 "metadata": {
  "language_info": {
   "name": "python",
   "pygments_lexer": "ipython3"
  }
 },
 "nbformat": 4,
 "nbformat_minor": 2
}
